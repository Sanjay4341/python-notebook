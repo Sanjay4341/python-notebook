{
 "cells": [
  {
   "cell_type": "code",
   "execution_count": 117,
   "id": "c4423201",
   "metadata": {},
   "outputs": [
    {
     "name": "stdout",
     "output_type": "stream",
     "text": [
      "Hello world\n"
     ]
    }
   ],
   "source": [
    "print(\"Hello world\")"
   ]
  },
  {
   "cell_type": "code",
   "execution_count": 118,
   "id": "94c04ea3",
   "metadata": {
    "scrolled": true
   },
   "outputs": [
    {
     "name": "stdout",
     "output_type": "stream",
     "text": [
      "My name is sanjay\n"
     ]
    }
   ],
   "source": [
    "print(\"My name is sanjay\")"
   ]
  },
  {
   "cell_type": "code",
   "execution_count": 119,
   "id": "3eb7f126",
   "metadata": {},
   "outputs": [
    {
     "name": "stdout",
     "output_type": "stream",
     "text": [
      "welcome to python world\n"
     ]
    }
   ],
   "source": [
    "print(\"welcome to python world\")"
   ]
  },
  {
   "cell_type": "markdown",
   "id": "5941d276",
   "metadata": {},
   "source": [
    "# heading1\n",
    "## heading2\n",
    "### heading3\n",
    "#### heading4\n",
    "##### heading5\n",
    "###### heading6\n",
    "\n",
    "<h1 style=\"color:white;background-color:orange\">Sanjay</h1>\n",
    "\n",
    "*italic*<br>\n",
    "**bold**<br>\n",
    "***italic & bold***\n",
    "\n",
    "* List\n",
    "    * sublist\n",
    "        * inner sublist\n",
    "            * data\n",
    "\n",
    "> 1.ordered list<br>\n",
    "> 2.ordered list<br>\n",
    "> 3.ordered list3\n",
    "\n",
    "<img src=\"sanjay.jpj\" alt=\"sanjay image\">\n",
    "<a href=\"https://www.google.com\">Google</a>\n",
    "     \n",
    "\n",
    "\n",
    "\n",
    "\n"
   ]
  },
  {
   "cell_type": "markdown",
   "id": "334e3f63",
   "metadata": {},
   "source": [
    "# variables\n",
    "\n",
    "* A variable must start with a letter or the underscore charecter\n",
    "* A variable name cannot start with a number\n",
    "* A variable name can only contain alpha numeric charecters and underscore(A-Z(or a-z(or)(0-9)(or)underscore\n",
    "* Variable is case-sensitive."
   ]
  },
  {
   "cell_type": "code",
   "execution_count": 120,
   "id": "e7ab9342",
   "metadata": {},
   "outputs": [
    {
     "name": "stdout",
     "output_type": "stream",
     "text": [
      "65\n"
     ]
    }
   ],
   "source": [
    "sa12=65\n",
    "print(sa12)"
   ]
  },
  {
   "cell_type": "code",
   "execution_count": 121,
   "id": "16c050a6",
   "metadata": {},
   "outputs": [
    {
     "name": "stdout",
     "output_type": "stream",
     "text": [
      "sanjay\n"
     ]
    }
   ],
   "source": [
    "s=\"sanjay\"\n",
    "print(s)"
   ]
  },
  {
   "cell_type": "markdown",
   "id": "dea6573d",
   "metadata": {},
   "source": [
    "# Datatypes:\n",
    "* Integer\n",
    "* Float\n",
    "* String\n",
    "     "
   ]
  },
  {
   "cell_type": "code",
   "execution_count": 45,
   "id": "5ea1d4f2",
   "metadata": {},
   "outputs": [
    {
     "name": "stdout",
     "output_type": "stream",
     "text": [
      "20\n",
      "<class 'int'>\n"
     ]
    }
   ],
   "source": [
    "a=20\n",
    "print(a)\n",
    "print(type(a))"
   ]
  },
  {
   "cell_type": "code",
   "execution_count": 46,
   "id": "80a2a3b3",
   "metadata": {},
   "outputs": [
    {
     "name": "stdout",
     "output_type": "stream",
     "text": [
      "30.5\n",
      "<class 'float'>\n"
     ]
    }
   ],
   "source": [
    "a=30.5\n",
    "print(a)\n",
    "print(type(a))"
   ]
  },
  {
   "cell_type": "code",
   "execution_count": 47,
   "id": "353f69de",
   "metadata": {},
   "outputs": [
    {
     "name": "stdout",
     "output_type": "stream",
     "text": [
      "sanjay\n",
      "<class 'str'>\n"
     ]
    }
   ],
   "source": [
    "s=\"sanjay\"\n",
    "print(s)\n",
    "print(type(s))"
   ]
  },
  {
   "cell_type": "code",
   "execution_count": 48,
   "id": "35c3f751",
   "metadata": {},
   "outputs": [
    {
     "name": "stdout",
     "output_type": "stream",
     "text": [
      "10\n",
      "<class 'int'>\n",
      "10.0\n",
      "<class 'float'>\n",
      "10\n",
      "<class 'str'>\n"
     ]
    }
   ],
   "source": [
    "# typecasting\n",
    "a=10\n",
    "print(a)\n",
    "print(type(a))\n",
    "print(float(a))\n",
    "print(type(float(a)))\n",
    "print(str(a))\n",
    "print(type(str(a)))"
   ]
  },
  {
   "cell_type": "code",
   "execution_count": 49,
   "id": "a12f4e26",
   "metadata": {},
   "outputs": [
    {
     "name": "stdout",
     "output_type": "stream",
     "text": [
      "<class 'str'>\n"
     ]
    }
   ],
   "source": [
    "a='s'\n",
    "print(type(a))"
   ]
  },
  {
   "cell_type": "code",
   "execution_count": 50,
   "id": "92fad15c",
   "metadata": {},
   "outputs": [
    {
     "data": {
      "text/plain": [
       "20"
      ]
     },
     "execution_count": 50,
     "metadata": {},
     "output_type": "execute_result"
    }
   ],
   "source": [
    "d=20\n",
    "d"
   ]
  },
  {
   "cell_type": "code",
   "execution_count": 51,
   "id": "8ef268c5",
   "metadata": {},
   "outputs": [
    {
     "name": "stdout",
     "output_type": "stream",
     "text": [
      "20\n"
     ]
    }
   ],
   "source": [
    "a=d\n",
    "print(a)"
   ]
  },
  {
   "cell_type": "code",
   "execution_count": 52,
   "id": "7dae220f",
   "metadata": {},
   "outputs": [
    {
     "name": "stdout",
     "output_type": "stream",
     "text": [
      "20\n",
      "20\n",
      "20\n"
     ]
    }
   ],
   "source": [
    "b=c=e=d\n",
    "print(b)\n",
    "print(c)\n",
    "print(e)"
   ]
  },
  {
   "cell_type": "code",
   "execution_count": 55,
   "id": "3e1223f4",
   "metadata": {},
   "outputs": [],
   "source": [
    "a,b,c,d=10,20.4,\"sanjay\",\"hello\""
   ]
  },
  {
   "cell_type": "code",
   "execution_count": 56,
   "id": "8e179704",
   "metadata": {},
   "outputs": [
    {
     "name": "stdout",
     "output_type": "stream",
     "text": [
      "10\n",
      "20.4\n",
      "sanjay\n",
      "hello\n"
     ]
    }
   ],
   "source": [
    "print(a)\n",
    "print(b)\n",
    "print(c)\n",
    "print(d)"
   ]
  },
  {
   "cell_type": "code",
   "execution_count": 57,
   "id": "8f242989",
   "metadata": {},
   "outputs": [
    {
     "name": "stdout",
     "output_type": "stream",
     "text": [
      "45\n"
     ]
    }
   ],
   "source": [
    "f=45.7\n",
    "print(int(f))"
   ]
  },
  {
   "cell_type": "code",
   "execution_count": 58,
   "id": "4cd204dd",
   "metadata": {},
   "outputs": [
    {
     "name": "stdout",
     "output_type": "stream",
     "text": [
      "45\n",
      "45.7\n",
      "<class 'str'>\n"
     ]
    }
   ],
   "source": [
    "f=45.7\n",
    "print(int(f))\n",
    "print(str(f))\n",
    "print(type(str(f)))"
   ]
  },
  {
   "cell_type": "code",
   "execution_count": 59,
   "id": "f498d9ca",
   "metadata": {},
   "outputs": [
    {
     "name": "stdout",
     "output_type": "stream",
     "text": [
      "enter a value:122\n",
      "122\n",
      "<class 'str'>\n"
     ]
    }
   ],
   "source": [
    "s=input(\"enter a value:\")\n",
    "print(s)\n",
    "print(type(s))"
   ]
  },
  {
   "cell_type": "code",
   "execution_count": 61,
   "id": "3953edb3",
   "metadata": {},
   "outputs": [
    {
     "name": "stdout",
     "output_type": "stream",
     "text": [
      "enter a value:616\n",
      "616\n",
      "<class 'int'>\n"
     ]
    }
   ],
   "source": [
    "n=int(input(\"enter a value:\"))\n",
    "print(n)\n",
    "print(type(n))"
   ]
  },
  {
   "cell_type": "code",
   "execution_count": 62,
   "id": "7dcf5c8c",
   "metadata": {},
   "outputs": [
    {
     "name": "stdout",
     "output_type": "stream",
     "text": [
      "enter a value3\n",
      "3.0\n",
      "<class 'float'>\n"
     ]
    }
   ],
   "source": [
    "n=float(input(\"enter a value\"))\n",
    "print(n)\n",
    "print(type(n))"
   ]
  },
  {
   "cell_type": "code",
   "execution_count": 63,
   "id": "193eaf9b",
   "metadata": {},
   "outputs": [
    {
     "name": "stdout",
     "output_type": "stream",
     "text": [
      "enter a value:sanjay\n",
      "sanjay\n",
      "<class 'str'>\n"
     ]
    }
   ],
   "source": [
    "s=input(\"enter a value:\")\n",
    "print(s)\n",
    "print(type(s))"
   ]
  },
  {
   "cell_type": "code",
   "execution_count": 64,
   "id": "09ddfd0d",
   "metadata": {},
   "outputs": [
    {
     "name": "stdout",
     "output_type": "stream",
     "text": [
      "20\n",
      "14\n",
      "Addition of a and b is: 34\n"
     ]
    }
   ],
   "source": [
    "a=int(input())\n",
    "b=int(input())\n",
    "print(\"Addition of a and b is:\",a+b)"
   ]
  },
  {
   "cell_type": "code",
   "execution_count": 65,
   "id": "128dee7d",
   "metadata": {},
   "outputs": [
    {
     "name": "stdout",
     "output_type": "stream",
     "text": [
      "222\n",
      "2222\n",
      "Addition of a and b is: 2444\n",
      "Addition of 222 and 2222 is : 2444\n",
      "Addition of222 and 2222 is: 2444\n",
      "Addition of 2444 and 222 is: 2222\n"
     ]
    }
   ],
   "source": [
    "a=int(input())\n",
    "b=int(input())\n",
    "print(\"Addition of a and b is:\",a+b)\n",
    "print(\"Addition of %d and %d is : %d\"%(a,b,a+b))\n",
    "print(\"Addition of{} and {} is: {}\".format(a,b,a+b))\n",
    "print(\"Addition of {2} and {0} is: {1}\".format(a,b,a+b))"
   ]
  },
  {
   "cell_type": "code",
   "execution_count": 66,
   "id": "c7f10093",
   "metadata": {},
   "outputs": [
    {
     "name": "stdout",
     "output_type": "stream",
     "text": [
      "False\n",
      "True\n"
     ]
    }
   ],
   "source": [
    "# Identity operator\n",
    "a=10\n",
    "b=20\n",
    "print(a is b)\n",
    "print(a is not b)"
   ]
  },
  {
   "cell_type": "code",
   "execution_count": 67,
   "id": "261c8f0a",
   "metadata": {},
   "outputs": [
    {
     "name": "stdout",
     "output_type": "stream",
     "text": [
      "True\n",
      "False\n",
      "True\n"
     ]
    }
   ],
   "source": [
    "# Membership operator\n",
    "a= \"sanjay\"\n",
    "print(\"s\" in a)\n",
    "print(\"b\" in a)\n",
    "print(\"z\" not in a)\n",
    "\n",
    "\n"
   ]
  },
  {
   "cell_type": "code",
   "execution_count": null,
   "id": "93226466",
   "metadata": {},
   "outputs": [],
   "source": [
    "# Check the username and password then print login success by using if condition\n",
    "Username=\"sanjaygunda\"\n",
    "Password=1234545678\n",
    "user=input(\"Enter username :\")\n",
    "pwd=int(input(\"Enter password :\"))\n",
    "if username==user:\n",
    "    if password==pwd:\n",
    "        print(\"login successfull\")\n",
    "else:\n",
    "        print(\"invalid details\")"
   ]
  },
  {
   "cell_type": "code",
   "execution_count": 68,
   "id": "a84a0ecf",
   "metadata": {},
   "outputs": [
    {
     "name": "stdout",
     "output_type": "stream",
     "text": [
      "python programming\n",
      "p\n",
      "g\n",
      "python\n",
      "ng\n",
      "python\n",
      "pto\n",
      "ython programmin\n",
      "gnimmargorp nohtyp\n",
      "18\n",
      "9.0\n",
      "o\n",
      "ing\n",
      "htyp\n",
      "nohtyp\n",
      " nohtyp programming\n",
      " nohtyp programming\n",
      "python programming\n"
     ]
    }
   ],
   "source": [
    "# Strings\n",
    "s=\"python programming\"\n",
    "print(s)\n",
    "print(s[0])\n",
    "print(s[-1])\n",
    "print(s[0:6])\n",
    "print(s[-2:])\n",
    "print(s[0:6:1])\n",
    "print(s[0:6:2])\n",
    "print(s[1:-1])\n",
    "print(s[::-1])\n",
    "print(len(s))\n",
    "print(len(s)/2)\n",
    "print(s[len(s)//2])\n",
    "print(s[-3:])\n",
    "print(s[3::-1])\n",
    "print(s[5::-1])\n",
    "print(s[6::-1]+' '+s[7::])\n",
    "print(s[6:0:-1]+s[0],s[7:])\n",
    "print(s[0:-1:]+s[-1])\n",
    "\n"
   ]
  },
  {
   "cell_type": "code",
   "execution_count": 69,
   "id": "47c9a652",
   "metadata": {},
   "outputs": [
    {
     "name": "stdout",
     "output_type": "stream",
     "text": [
      "['__add__', '__class__', '__contains__', '__delattr__', '__dir__', '__doc__', '__eq__', '__format__', '__ge__', '__getattribute__', '__getitem__', '__getnewargs__', '__gt__', '__hash__', '__init__', '__init_subclass__', '__iter__', '__le__', '__len__', '__lt__', '__mod__', '__mul__', '__ne__', '__new__', '__reduce__', '__reduce_ex__', '__repr__', '__rmod__', '__rmul__', '__setattr__', '__sizeof__', '__str__', '__subclasshook__', 'capitalize', 'casefold', 'center', 'count', 'encode', 'endswith', 'expandtabs', 'find', 'format', 'format_map', 'index', 'isalnum', 'isalpha', 'isascii', 'isdecimal', 'isdigit', 'isidentifier', 'islower', 'isnumeric', 'isprintable', 'isspace', 'istitle', 'isupper', 'join', 'ljust', 'lower', 'lstrip', 'maketrans', 'partition', 'replace', 'rfind', 'rindex', 'rjust', 'rpartition', 'rsplit', 'rstrip', 'split', 'splitlines', 'startswith', 'strip', 'swapcase', 'title', 'translate', 'upper', 'zfill']\n"
     ]
    }
   ],
   "source": [
    "print(dir(\" \"))"
   ]
  },
  {
   "cell_type": "code",
   "execution_count": 70,
   "id": "ca7107f3",
   "metadata": {},
   "outputs": [
    {
     "name": "stdout",
     "output_type": "stream",
     "text": [
      "True\n",
      "False\n",
      "Sanjay\n",
      "False\n",
      "True\n"
     ]
    }
   ],
   "source": [
    "s=\"sanjay\"\n",
    "print(s.islower())\n",
    "print(s.isupper())\n",
    "print(s.capitalize())\n",
    "print(s.istitle())\n",
    "n=s.capitalize()\n",
    "print(n.istitle())\n",
    "\n"
   ]
  },
  {
   "cell_type": "code",
   "execution_count": 71,
   "id": "9c4ebc1f",
   "metadata": {},
   "outputs": [
    {
     "name": "stdout",
     "output_type": "stream",
     "text": [
      "False\n",
      "This Is Sanjay\n",
      "False\n",
      "True\n",
      "False\n",
      "False\n"
     ]
    }
   ],
   "source": [
    "s=\"This is sanjay\"\n",
    "print(s.istitle())\n",
    "print(s.title())\n",
    "print(s.startswith(\"t\"))\n",
    "print(s.startswith(\"T\"))\n",
    "print(s.endswith(\"a\"))\n",
    "\n",
    "print(s.endswith(\"A\"))\n"
   ]
  },
  {
   "cell_type": "code",
   "execution_count": 89,
   "id": "d4b62568",
   "metadata": {},
   "outputs": [
    {
     "name": "stdout",
     "output_type": "stream",
     "text": [
      "  Sanjay  \n"
     ]
    }
   ],
   "source": [
    "s=\"Sanjay\"\n",
    "print(s.center(10))"
   ]
  },
  {
   "cell_type": "code",
   "execution_count": 73,
   "id": "b0ee083e",
   "metadata": {},
   "outputs": [
    {
     "name": "stdout",
     "output_type": "stream",
     "text": [
      "Sanjay\n"
     ]
    }
   ],
   "source": [
    "s=\"Sanjay\"\n",
    "print(s.center(6,'#'))\n"
   ]
  },
  {
   "cell_type": "code",
   "execution_count": 74,
   "id": "8fc749de",
   "metadata": {},
   "outputs": [
    {
     "name": "stdout",
     "output_type": "stream",
     "text": [
      "3\n"
     ]
    }
   ],
   "source": [
    "s=\"ooohelllooo\"\n",
    "\n",
    "print(s.count(\"o\",5,))"
   ]
  },
  {
   "cell_type": "code",
   "execution_count": 75,
   "id": "25c426b1",
   "metadata": {},
   "outputs": [
    {
     "name": "stdout",
     "output_type": "stream",
     "text": [
      "#######sanjay######\n"
     ]
    }
   ],
   "source": [
    "b=\"sanjay\"\n",
    "print(b.center(19,\"#\"))"
   ]
  },
  {
   "cell_type": "code",
   "execution_count": 77,
   "id": "62f7de15",
   "metadata": {},
   "outputs": [
    {
     "name": "stdout",
     "output_type": "stream",
     "text": [
      "1\n",
      "7\n",
      "4\n",
      "-1\n"
     ]
    }
   ],
   "source": [
    "s=\"kasuaryapr\"\n",
    "print(s.find(\"a\"))\n",
    "print(s.rfind(\"a\"))\n",
    "print(s.find(\"a\",3,))\n",
    "print(s.find(\"z\"))"
   ]
  },
  {
   "cell_type": "code",
   "execution_count": 78,
   "id": "c1f2b7f4",
   "metadata": {},
   "outputs": [
    {
     "name": "stdout",
     "output_type": "stream",
     "text": [
      "1\n",
      "7\n",
      "4\n"
     ]
    },
    {
     "ename": "ValueError",
     "evalue": "substring not found",
     "output_type": "error",
     "traceback": [
      "\u001b[1;31m---------------------------------------------------------------------------\u001b[0m",
      "\u001b[1;31mValueError\u001b[0m                                Traceback (most recent call last)",
      "\u001b[1;32m<ipython-input-78-63cee482badc>\u001b[0m in \u001b[0;36m<module>\u001b[1;34m\u001b[0m\n\u001b[0;32m      2\u001b[0m \u001b[0mprint\u001b[0m\u001b[1;33m(\u001b[0m\u001b[0ms\u001b[0m\u001b[1;33m.\u001b[0m\u001b[0mrindex\u001b[0m\u001b[1;33m(\u001b[0m\u001b[1;34m\"a\"\u001b[0m\u001b[1;33m)\u001b[0m\u001b[1;33m)\u001b[0m\u001b[1;33m\u001b[0m\u001b[1;33m\u001b[0m\u001b[0m\n\u001b[0;32m      3\u001b[0m \u001b[0mprint\u001b[0m\u001b[1;33m(\u001b[0m\u001b[0ms\u001b[0m\u001b[1;33m.\u001b[0m\u001b[0mindex\u001b[0m\u001b[1;33m(\u001b[0m\u001b[1;34m\"a\"\u001b[0m\u001b[1;33m,\u001b[0m\u001b[1;36m3\u001b[0m\u001b[1;33m,\u001b[0m\u001b[1;33m)\u001b[0m\u001b[1;33m)\u001b[0m\u001b[1;33m\u001b[0m\u001b[1;33m\u001b[0m\u001b[0m\n\u001b[1;32m----> 4\u001b[1;33m \u001b[0mprint\u001b[0m\u001b[1;33m(\u001b[0m\u001b[0ms\u001b[0m\u001b[1;33m.\u001b[0m\u001b[0mindex\u001b[0m\u001b[1;33m(\u001b[0m\u001b[1;34m\"z\"\u001b[0m\u001b[1;33m)\u001b[0m\u001b[1;33m)\u001b[0m\u001b[1;33m\u001b[0m\u001b[1;33m\u001b[0m\u001b[0m\n\u001b[0m",
      "\u001b[1;31mValueError\u001b[0m: substring not found"
     ]
    }
   ],
   "source": [
    "print(s.index(\"a\"))\n",
    "print(s.rindex(\"a\"))\n",
    "print(s.index(\"a\",3,))\n",
    "print(s.index(\"z\"))"
   ]
  },
  {
   "cell_type": "code",
   "execution_count": 80,
   "id": "85955730",
   "metadata": {},
   "outputs": [
    {
     "data": {
      "text/plain": [
       "'h       el      l       o'"
      ]
     },
     "execution_count": 80,
     "metadata": {},
     "output_type": "execute_result"
    }
   ],
   "source": [
    "s=\"h\\tel\\tl\\to\"\n",
    "s.expandtabs()\n"
   ]
  },
  {
   "cell_type": "code",
   "execution_count": 81,
   "id": "b0e1534b",
   "metadata": {},
   "outputs": [
    {
     "name": "stdout",
     "output_type": "stream",
     "text": [
      "This is sanjay and i am 18 years old\n"
     ]
    }
   ],
   "source": [
    "h=\"This is {} and i am {} years old\".format(\"sanjay\",\"18\")\n",
    "print(h)\n",
    "\n",
    "                                           "
   ]
  },
  {
   "cell_type": "code",
   "execution_count": 82,
   "id": "92120cd7",
   "metadata": {},
   "outputs": [
    {
     "name": "stdout",
     "output_type": "stream",
     "text": [
      "True\n",
      "False\n",
      "True\n"
     ]
    }
   ],
   "source": [
    "s=\"12345\"\n",
    "print(s.isalnum())\n",
    "print(s.isalpha())\n",
    "print(s.isdigit())"
   ]
  },
  {
   "cell_type": "code",
   "execution_count": 83,
   "id": "0915cf73",
   "metadata": {},
   "outputs": [
    {
     "name": "stdout",
     "output_type": "stream",
     "text": [
      "True\n",
      "True\n",
      "True\n"
     ]
    }
   ],
   "source": [
    "s=\"123\"\n",
    "print(s.isdigit())\n",
    "print(s.isdecimal())\n",
    "print(s.isnumeric())"
   ]
  },
  {
   "cell_type": "code",
   "execution_count": 84,
   "id": "9db357c7",
   "metadata": {},
   "outputs": [
    {
     "name": "stdout",
     "output_type": "stream",
     "text": [
      "False\n",
      "True\n",
      "True\n"
     ]
    }
   ],
   "source": [
    "c='\\u100B2' # unicode\n",
    "print(c.isdecimal())\n",
    "print(s.isdigit())\n",
    "print(s.isnumeric())"
   ]
  },
  {
   "cell_type": "code",
   "execution_count": 85,
   "id": "fc4a34ec",
   "metadata": {},
   "outputs": [
    {
     "data": {
      "text/plain": [
       "False"
      ]
     },
     "execution_count": 85,
     "metadata": {},
     "output_type": "execute_result"
    }
   ],
   "source": [
    "sp=\"sfsd fs \"\n",
    "sp.isspace()"
   ]
  },
  {
   "cell_type": "code",
   "execution_count": 86,
   "id": "e433153c",
   "metadata": {},
   "outputs": [
    {
     "data": {
      "text/plain": [
       "True"
      ]
     },
     "execution_count": 86,
     "metadata": {},
     "output_type": "execute_result"
    }
   ],
   "source": [
    "sp=\" \"\n",
    "sp.isspace()"
   ]
  },
  {
   "cell_type": "code",
   "execution_count": 88,
   "id": "248c53c7",
   "metadata": {},
   "outputs": [
    {
     "name": "stdout",
     "output_type": "stream",
     "text": [
      "sanjay\n",
      "sanjay  \n",
      "  sanjay\n"
     ]
    }
   ],
   "source": [
    "st=\"  sanjay  \"\n",
    "print(st.strip())\n",
    "print(st.lstrip())\n",
    "print(st.rstrip())"
   ]
  },
  {
   "cell_type": "code",
   "execution_count": 90,
   "id": "870ca101",
   "metadata": {},
   "outputs": [
    {
     "data": {
      "text/plain": [
       "('', 'This', ' is sanjay')"
      ]
     },
     "execution_count": 90,
     "metadata": {},
     "output_type": "execute_result"
    }
   ],
   "source": [
    "s=\"This is sanjay\"\n",
    "s.partition('This')"
   ]
  },
  {
   "cell_type": "code",
   "execution_count": 91,
   "id": "56e06591",
   "metadata": {},
   "outputs": [
    {
     "data": {
      "text/plain": [
       "('This This ', 'This', ' is sanjay')"
      ]
     },
     "execution_count": 91,
     "metadata": {},
     "output_type": "execute_result"
    }
   ],
   "source": [
    "s=\"This This This is sanjay\"\n",
    "s.rpartition('This')"
   ]
  },
  {
   "cell_type": "code",
   "execution_count": 94,
   "id": "ff9c8de9",
   "metadata": {},
   "outputs": [
    {
     "data": {
      "text/plain": [
       "('hello ', 'hai', ' how are you hai all')"
      ]
     },
     "execution_count": 94,
     "metadata": {},
     "output_type": "execute_result"
    }
   ],
   "source": [
    "s=\"hello hai how are you hai all\"\n",
    "s.partition('hai')\n"
   ]
  },
  {
   "cell_type": "code",
   "execution_count": 95,
   "id": "769b25bd",
   "metadata": {},
   "outputs": [
    {
     "data": {
      "text/plain": [
       "('hello hai how are you ', 'hai', ' all')"
      ]
     },
     "execution_count": 95,
     "metadata": {},
     "output_type": "execute_result"
    }
   ],
   "source": [
    "s=\"hello hai how are you hai all\"\n",
    "s.rpartition('hai')\n"
   ]
  },
  {
   "cell_type": "code",
   "execution_count": 98,
   "id": "82d6e1bf",
   "metadata": {},
   "outputs": [
    {
     "name": "stdout",
     "output_type": "stream",
     "text": [
      "This is surya\n"
     ]
    }
   ],
   "source": [
    "s=\"This is sanjay\"\n",
    "print(s.replace(\"sanjay\",\"surya\"))"
   ]
  },
  {
   "cell_type": "code",
   "execution_count": 99,
   "id": "8a20178a",
   "metadata": {},
   "outputs": [
    {
     "name": "stdout",
     "output_type": "stream",
     "text": [
      "hello hello haii how are you\n"
     ]
    }
   ],
   "source": [
    "s=\"haii haii haii how are you\"\n",
    "print(s.replace(\"haii\",\"hello\",2))"
   ]
  },
  {
   "cell_type": "code",
   "execution_count": 100,
   "id": "0b068495",
   "metadata": {},
   "outputs": [
    {
     "name": "stdout",
     "output_type": "stream",
     "text": [
      "sAnJaY\n"
     ]
    }
   ],
   "source": [
    "s=\"SaNjAy\"\n",
    "print(s.swapcase())\n"
   ]
  },
  {
   "cell_type": "code",
   "execution_count": 102,
   "id": "2895035f",
   "metadata": {},
   "outputs": [
    {
     "name": "stdout",
     "output_type": "stream",
     "text": [
      "@@@@@@@@@@@@@@sanjay\n",
      "sanjay@@@@@@@@@@@@@@\n",
      "000000000000000000000000sanjay\n"
     ]
    }
   ],
   "source": [
    "s=\"sanjay\"\n",
    "print(s.rjust(20,\"@\"))\n",
    "print(s.ljust(20,\"@\"))\n",
    "print(s.zfill(30))"
   ]
  },
  {
   "cell_type": "code",
   "execution_count": 103,
   "id": "e7f8b21b",
   "metadata": {},
   "outputs": [
    {
     "data": {
      "text/plain": [
       "['hai ', ' how are you']"
      ]
     },
     "execution_count": 103,
     "metadata": {},
     "output_type": "execute_result"
    }
   ],
   "source": [
    "s=\"hai students how are you\"\n",
    "s.split(\"students\")"
   ]
  },
  {
   "cell_type": "code",
   "execution_count": 104,
   "id": "abf52b5b",
   "metadata": {},
   "outputs": [
    {
     "data": {
      "text/plain": [
       "('hai ', 'students', ' how are you')"
      ]
     },
     "execution_count": 104,
     "metadata": {},
     "output_type": "execute_result"
    }
   ],
   "source": [
    "s=\"hai students how are you\"\n",
    "s.partition(\"students\")"
   ]
  },
  {
   "cell_type": "code",
   "execution_count": 105,
   "id": "8eb123c2",
   "metadata": {},
   "outputs": [
    {
     "data": {
      "text/plain": [
       "['hai', ' stu', 'dents', ' how are', ' you']"
      ]
     },
     "execution_count": 105,
     "metadata": {},
     "output_type": "execute_result"
    }
   ],
   "source": [
    "s=\"hai\\n stu\\ndents\\n how are\\n you\"\n",
    "s.splitlines()"
   ]
  },
  {
   "cell_type": "code",
   "execution_count": 106,
   "id": "a86e0778",
   "metadata": {},
   "outputs": [
    {
     "data": {
      "text/plain": [
       "['hai\\n', ' stu\\n', 'dents\\n', ' how are\\n', ' you']"
      ]
     },
     "execution_count": 106,
     "metadata": {},
     "output_type": "execute_result"
    }
   ],
   "source": [
    "s=\"hai\\n stu\\ndents\\n how are\\n you\"\n",
    "s.splitlines(True)"
   ]
  },
  {
   "cell_type": "code",
   "execution_count": 112,
   "id": "8a315367",
   "metadata": {},
   "outputs": [
    {
     "name": "stdout",
     "output_type": "stream",
     "text": [
      "hai friends how are you friends\n"
     ]
    }
   ],
   "source": [
    "s=\"hai students how are you students\"\n",
    "s1=s.split(\"students\")\n",
    "s2=\"friends\".join(s1)\n",
    "print(s2)\n",
    "\n"
   ]
  },
  {
   "cell_type": "code",
   "execution_count": 116,
   "id": "7c2e262f",
   "metadata": {},
   "outputs": [
    {
     "name": "stdout",
     "output_type": "stream",
     "text": [
      "hello sam\n"
     ]
    }
   ],
   "source": [
    "hello={68:78}\n",
    "data=\"hello sam\"\n",
    "print(data.translate(hello))"
   ]
  },
  {
   "cell_type": "code",
   "execution_count": 122,
   "id": "e3de764d",
   "metadata": {},
   "outputs": [
    {
     "name": "stdout",
     "output_type": "stream",
     "text": [
      "Enter a number:32\n",
      "The number of digits in the number are: 0\n"
     ]
    }
   ],
   "source": [
    "# function count the number of digits in a given number\n",
    "n=int(input(\"Enter a number:\"))\n",
    "count=0\n",
    "while(n<0):\n",
    "    count=count+1\n",
    "    n=n//10\n",
    "print(\"The number of digits in the number are:\",count)"
   ]
  },
  {
   "cell_type": "code",
   "execution_count": 124,
   "id": "23fcc2cb",
   "metadata": {},
   "outputs": [
    {
     "name": "stdout",
     "output_type": "stream",
     "text": [
      "Enter value :12234\n",
      "5\n"
     ]
    }
   ],
   "source": [
    "# function count the number of digits in a given number\n",
    "n=input(\"Enter value :\")\n",
    "print(len(str(n)))"
   ]
  },
  {
   "cell_type": "code",
   "execution_count": 125,
   "id": "9f500f0e",
   "metadata": {},
   "outputs": [
    {
     "name": "stdout",
     "output_type": "stream",
     "text": [
      "Enter value :123\n",
      "<built-in method count of str object at 0x000001AC29D290F0>\n"
     ]
    }
   ],
   "source": [
    "n=input(\"Enter value :\")\n",
    "print(n.count)"
   ]
  },
  {
   "cell_type": "code",
   "execution_count": 126,
   "id": "5c703687",
   "metadata": {},
   "outputs": [
    {
     "name": "stdout",
     "output_type": "stream",
     "text": [
      "palindrome\n"
     ]
    }
   ],
   "source": [
    "# check if a string palindrome or not\n",
    "s=\"stuts\"\n",
    "t=s[::-1]\n",
    "if t==s:\n",
    "        print(\"palindrome\")\n"
   ]
  },
  {
   "cell_type": "code",
   "execution_count": 127,
   "id": "866aa26f",
   "metadata": {},
   "outputs": [
    {
     "name": "stdout",
     "output_type": "stream",
     "text": [
      "Enter a valuesanajy\n"
     ]
    },
    {
     "data": {
      "text/plain": [
       "'Not a Palindrome'"
      ]
     },
     "execution_count": 127,
     "metadata": {},
     "output_type": "execute_result"
    }
   ],
   "source": [
    "def palindrome(s):\n",
    "    if s==s[::-1]:\n",
    "        return \"Palindrome\"\n",
    "    else:\n",
    "        return \"Not a Palindrome\"\n",
    "palindrome(input(\"Enter a value\"))"
   ]
  },
  {
   "cell_type": "code",
   "execution_count": null,
   "id": "b3b9c1d3",
   "metadata": {},
   "outputs": [],
   "source": []
  }
 ],
 "metadata": {
  "kernelspec": {
   "display_name": "Python 3",
   "language": "python",
   "name": "python3"
  },
  "language_info": {
   "codemirror_mode": {
    "name": "ipython",
    "version": 3
   },
   "file_extension": ".py",
   "mimetype": "text/x-python",
   "name": "python",
   "nbconvert_exporter": "python",
   "pygments_lexer": "ipython3",
   "version": "3.8.8"
  }
 },
 "nbformat": 4,
 "nbformat_minor": 5
}
